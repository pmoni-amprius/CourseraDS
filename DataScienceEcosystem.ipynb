{
 "cells": [
  {
   "cell_type": "markdown",
   "id": "c25b5cb5-0571-4f28-8d31-724b47481857",
   "metadata": {},
   "source": [
    "# Data Science Tools and Ecosystem"
   ]
  },
  {
   "cell_type": "markdown",
   "id": "4852a0b6-149c-4dd3-9755-befe0e959801",
   "metadata": {},
   "source": [
    "__Objectives:__\n",
    "\n",
    "+  List popular languages for datascience\n",
    "+  List common libraries for datascience\n",
    "+  tabulate datascience tools"
   ]
  },
  {
   "cell_type": "markdown",
   "id": "fed3ee36-8aed-4056-821b-34edb7b3f4c2",
   "metadata": {},
   "source": [
    "In this notebook, Data Science Tools and Ecosystem are summarized"
   ]
  },
  {
   "cell_type": "markdown",
   "id": "25b47fd8-2e3e-4a25-8128-d856886db43c",
   "metadata": {},
   "source": [
    "Some of the popular language that Data Scientists use are:\n",
    "1. Python\n",
    "2. R\n",
    "3. Julia"
   ]
  },
  {
   "cell_type": "markdown",
   "id": "c0771d92-54d1-4f74-987d-e8a39a5ecd6d",
   "metadata": {},
   "source": [
    "Some of the commonly used libraries used by Data Scientists include\n",
    "1. pandas\n",
    "2. numpy\n",
    "3. matplotlib"
   ]
  },
  {
   "cell_type": "markdown",
   "id": "4c9ec60d-555d-4633-bb89-8fccc4993c47",
   "metadata": {},
   "source": [
    "|Data Science Tools|\n",
    "|------------------|\n",
    "|Jupyter|\n",
    "|RStudio|\n",
    "|Spyder|"
   ]
  },
  {
   "cell_type": "markdown",
   "id": "544e2b78-204f-4eac-bafa-bfed65fe5ee4",
   "metadata": {},
   "source": [
    "### Below are a few examples of evaluating arithmetic expressions in Python"
   ]
  },
  {
   "cell_type": "code",
   "execution_count": 1,
   "id": "5d96fe53-0b56-4281-8c02-e642182f6a4b",
   "metadata": {
    "tags": []
   },
   "outputs": [
    {
     "data": {
      "text/plain": [
       "17"
      ]
     },
     "execution_count": 1,
     "metadata": {},
     "output_type": "execute_result"
    }
   ],
   "source": [
    "#This is a simple arithmetic expression to multipy then add integers\n",
    "(3*4)+5"
   ]
  },
  {
   "cell_type": "code",
   "execution_count": 2,
   "id": "2070b9ae-8f9f-4ba5-8e31-68280fe6a07f",
   "metadata": {
    "tags": []
   },
   "outputs": [
    {
     "name": "stdout",
     "output_type": "stream",
     "text": [
      "3.3333333333333335\n"
     ]
    }
   ],
   "source": [
    "#This will convert 200 minutes to hours by dividing by 60\n",
    "num_min=200\n",
    "num_hours=num_min/60\n",
    "print(num_hours)"
   ]
  },
  {
   "cell_type": "markdown",
   "id": "53e902cd-2668-432a-aabf-641ceb811956",
   "metadata": {},
   "source": [
    "## Author\n",
    "Priya Moni"
   ]
  },
  {
   "cell_type": "code",
   "execution_count": null,
   "id": "307147f2-5d35-4f18-93fb-eb7341a04b5e",
   "metadata": {},
   "outputs": [],
   "source": []
  }
 ],
 "metadata": {
  "kernelspec": {
   "display_name": "Python",
   "language": "python",
   "name": "conda-env-python-py"
  },
  "language_info": {
   "codemirror_mode": {
    "name": "ipython",
    "version": 3
   },
   "file_extension": ".py",
   "mimetype": "text/x-python",
   "name": "python",
   "nbconvert_exporter": "python",
   "pygments_lexer": "ipython3",
   "version": "3.7.12"
  }
 },
 "nbformat": 4,
 "nbformat_minor": 5
}
